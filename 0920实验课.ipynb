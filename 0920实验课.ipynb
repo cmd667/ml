{
 "cells": [
  {
   "cell_type": "markdown",
   "id": "14caba53",
   "metadata": {},
   "source": [
    "## 第三章 线性模型"
   ]
  },
  {
   "cell_type": "markdown",
   "id": "37314011",
   "metadata": {},
   "source": [
    " - 3.1 一元线性回归\n",
    " - 3.2 多元线性回归\n",
    " - 3.3 对数几率回归\n",
    " - 3.4 线性判别分析"
   ]
  },
  {
   "cell_type": "markdown",
   "id": "d65bdfd3",
   "metadata": {},
   "source": [
    "### 一元线性回归——Advertising广告预测"
   ]
  },
  {
   "cell_type": "markdown",
   "id": "11b74b2e",
   "metadata": {},
   "source": [
    "使用advertising-dataset广告预测数据集：\n",
    "1.\t打乱数据顺序，取前70%的数据作为训练集，后30%的数据作为测试集\n",
    "2.\t分别以TV, Radio, Newspaper三种特征作为模型的输入，Sales作为模型的输出\n",
    "3.\t在训练集上，使用最小二乘法求解模型参数（需自己实现，不允许第三方库完成）\n",
    "4.\t计算三个模型在测试集上的MAE和RMSE这两种指标的大小（需自己实现，不允许第三方库完成）\n",
    "5.\t分别绘制模型的在训练集和测试集上的曲线\n",
    "6.\t选做：尝试去除训练集中的异常值或离群值后再次训练模型，绘制模型的预测曲线，观察模型在测试集上预测能力的变化\n"
   ]
  },
  {
   "cell_type": "code",
   "execution_count": 1,
   "id": "0e764808",
   "metadata": {},
   "outputs": [
    {
     "data": {
      "text/html": [
       "<div>\n",
       "<style scoped>\n",
       "    .dataframe tbody tr th:only-of-type {\n",
       "        vertical-align: middle;\n",
       "    }\n",
       "\n",
       "    .dataframe tbody tr th {\n",
       "        vertical-align: top;\n",
       "    }\n",
       "\n",
       "    .dataframe thead th {\n",
       "        text-align: right;\n",
       "    }\n",
       "</style>\n",
       "<table border=\"1\" class=\"dataframe\">\n",
       "  <thead>\n",
       "    <tr style=\"text-align: right;\">\n",
       "      <th></th>\n",
       "      <th>TV</th>\n",
       "      <th>Radio</th>\n",
       "      <th>Newspaper</th>\n",
       "      <th>Sales</th>\n",
       "    </tr>\n",
       "  </thead>\n",
       "  <tbody>\n",
       "    <tr>\n",
       "      <th>0</th>\n",
       "      <td>230.1</td>\n",
       "      <td>37.8</td>\n",
       "      <td>69.2</td>\n",
       "      <td>22.1</td>\n",
       "    </tr>\n",
       "    <tr>\n",
       "      <th>1</th>\n",
       "      <td>44.5</td>\n",
       "      <td>39.3</td>\n",
       "      <td>45.1</td>\n",
       "      <td>10.4</td>\n",
       "    </tr>\n",
       "    <tr>\n",
       "      <th>2</th>\n",
       "      <td>17.2</td>\n",
       "      <td>45.9</td>\n",
       "      <td>69.3</td>\n",
       "      <td>12.0</td>\n",
       "    </tr>\n",
       "    <tr>\n",
       "      <th>3</th>\n",
       "      <td>151.5</td>\n",
       "      <td>41.3</td>\n",
       "      <td>58.5</td>\n",
       "      <td>16.5</td>\n",
       "    </tr>\n",
       "    <tr>\n",
       "      <th>4</th>\n",
       "      <td>180.8</td>\n",
       "      <td>10.8</td>\n",
       "      <td>58.4</td>\n",
       "      <td>17.9</td>\n",
       "    </tr>\n",
       "  </tbody>\n",
       "</table>\n",
       "</div>"
      ],
      "text/plain": [
       "      TV  Radio  Newspaper  Sales\n",
       "0  230.1   37.8       69.2   22.1\n",
       "1   44.5   39.3       45.1   10.4\n",
       "2   17.2   45.9       69.3   12.0\n",
       "3  151.5   41.3       58.5   16.5\n",
       "4  180.8   10.8       58.4   17.9"
      ]
     },
     "execution_count": 1,
     "metadata": {},
     "output_type": "execute_result"
    }
   ],
   "source": [
    "#加载包\n",
    "import numpy as np \n",
    "import pandas as pd\n",
    "# 使用pandas读取csv数据\n",
    "data = pd.read_csv('data/advertising/advertising.csv')\n",
    "# 打印前5行\n",
    "data.head()"
   ]
  },
  {
   "cell_type": "markdown",
   "id": "71adacc5",
   "metadata": {},
   "source": [
    "#### 针对第三步，自行实现最小二乘法"
   ]
  },
  {
   "cell_type": "markdown",
   "id": "85be939f",
   "metadata": {},
   "source": [
    "本实验要求使用最小二乘法求解一元线性回归模型  \n",
    "求解$w$和$b$使均方误差$E_{(w,b)} = \\sum^m_{i=1}(y_i - wx_i - b)^2$最小化的过程，称为线性回归模型的最小二乘“参数估计”(parameter estimation)。我们可将$E_{(w,b)}$分别对$w$和$b$求导，得到\n",
    "$$\\tag{4}\n",
    "\\frac{\\partial E_{(w,b)}}{\\partial w} = 2(w \\sum^m_{i=1} x^2_i - \\sum^m_{i=1} (y_i - b) x_i),\n",
    "$$\n",
    "\n",
    "$$\\tag{5}\n",
    "\\frac{\\partial E_{(w,b)}}{\\partial b} = 2(mb - \\sum^m_{i=1}(y_i - w x_i))\n",
    "$$\n",
    "\n",
    "然后令式(4)和式(5)为0，可得到$w$和$b$的闭式解(closed-form solution)\n",
    "$$\\tag{6}\n",
    "w = \\frac{\\sum^m_{i=1} y_i(x_i - \\bar{x})}{\\sum^m_{i=1}x^2_i - \\frac{1}{m}(\\sum^m_{i=1}x_i)^2}\n",
    "$$\n",
    "\n",
    "$$\\tag{7}\n",
    "b = \\frac{1}{m}\\sum^m_{i=1}(y_i - w x_i)\n",
    "$$\n",
    "其中，$\\bar{x} = \\frac{1}{m}\\sum^m_{i=1}x_i$为$x$的均值"
   ]
  },
  {
   "cell_type": "code",
   "execution_count": 2,
   "id": "64c10a34",
   "metadata": {},
   "outputs": [],
   "source": [
    "def get_w(x, y):\n",
    "    '''\n",
    "    这个函数是计算模型w的值的函数，\n",
    "    传入的参数分别是x和y，表示数据与标记\n",
    "    Parameter\n",
    "    ----------\n",
    "        x: np.ndarray，pd.Series，传入的特征数据\n",
    "\n",
    "        y: np.ndarray, pd.Series，对应的标记\n",
    "    \n",
    "    Returns\n",
    "    ----------\n",
    "        w: float, 模型w的值\n",
    "    '''\n",
    "    return w"
   ]
  },
  {
   "cell_type": "code",
   "execution_count": 3,
   "id": "cafd262f",
   "metadata": {},
   "outputs": [],
   "source": [
    "def get_b(x, y, w):\n",
    "    '''\n",
    "    这个函数是计算模型b的值的函数，\n",
    "    传入的参数分别是x, y, w，表示数据，标记以及模型的w值\n",
    "    \n",
    "    Parameter\n",
    "    ----------\n",
    "        x: np.ndarray，pd.Series，传入的特征数据\n",
    "\n",
    "        y: np.ndarray, pd.Series，对应的标记\n",
    "        \n",
    "        w: np.ndarray, pd.Series，模型w的值\n",
    "    \n",
    "    Returns\n",
    "    ----------\n",
    "        b: float, 模型b的值\n",
    "    '''\n",
    "    return b"
   ]
  },
  {
   "cell_type": "code",
   "execution_count": 4,
   "id": "0b5f4a2a",
   "metadata": {},
   "outputs": [],
   "source": [
    "class myLinearRegression:\n",
    "    def __init__(self):\n",
    "        '''\n",
    "        类的初始化方法，不需要初始化的参数\n",
    "        这里设置了两个成员变量，用来存储模型w和b的值\n",
    "        '''\n",
    "        self.w = None\n",
    "        self.b = None\n",
    "    \n",
    "    def fit(self, x, y):\n",
    "        '''\n",
    "        这里需要编写训练的函数，也就是调用模型的fit方法，传入特征x的数据和标记y的数据\n",
    "        这个方法就可以求解出w和b\n",
    "        '''\n",
    "        # 请你补充求解w和b过程\n",
    "        # YOUR CODE HERE\n",
    "        \n",
    "    def predict(self, x):\n",
    "        '''\n",
    "        这是预测的函数，传入特征的数据，返回模型预测的结果\n",
    "        '''\n",
    "        if self.w == None or self.b == None:\n",
    "            print(\"模型还未训练，请先调用fit方法训练\")\n",
    "            return \n",
    "        \n",
    "        return self.w * x + self.b"
   ]
  },
  {
   "cell_type": "markdown",
   "id": "139ddbb1",
   "metadata": {},
   "source": [
    "#### 针对第四步，自行实现MAE和RMSE"
   ]
  },
  {
   "cell_type": "markdown",
   "id": "240c0d6a",
   "metadata": {},
   "source": [
    "模型训练完成后，还需要在测试集上验证其预测能力，这就需要计算模型的一些性能指标，如MAE和RMSE等。\n",
    "\n",
    "$$\\tag{8}\n",
    "MAE(\\hat{y}, y) = \\frac{1}{m} \\sum^m_{i=1} \\vert \\hat{y} - y \\vert\n",
    "$$\n",
    "\n",
    "$$\\tag{9}\n",
    "RMSE(\\hat{y}, y) = \\sqrt{\\frac{1}{m} \\sum^m_{i=1} (\\hat{y} - y)^2}\n",
    "$$\n",
    "其中，$\\hat{y}$是模型的预测值，$y$是真值，$m$是样本数"
   ]
  },
  {
   "cell_type": "code",
   "execution_count": 5,
   "id": "4902168b",
   "metadata": {},
   "outputs": [],
   "source": [
    "def MAE():\n",
    "    # 请你完成MAE的计算过程\n",
    "    # YOUR CODE HERE\n",
    "    return "
   ]
  },
  {
   "cell_type": "code",
   "execution_count": 6,
   "id": "6fe34c3d",
   "metadata": {},
   "outputs": [],
   "source": [
    "def RMSE():\n",
    "    # 请你完成RMSE的计算过程\n",
    "    # YOUR CODE HERE\n",
    "    return "
   ]
  },
  {
   "cell_type": "markdown",
   "id": "d8c96d71",
   "metadata": {},
   "source": [
    "#### 针对第五步，可视化模型预测效果"
   ]
  },
  {
   "cell_type": "code",
   "execution_count": 7,
   "id": "14ded8ef",
   "metadata": {},
   "outputs": [],
   "source": [
    "#借助绘图工具\n",
    "import matplotlib.pyplot as plt"
   ]
  },
  {
   "cell_type": "code",
   "execution_count": 8,
   "id": "0469a8d1",
   "metadata": {},
   "outputs": [],
   "source": [
    "# 可参考的函数\n",
    "# plt.figure(figsize = ())\n",
    "# plt.plot()\n",
    "# plt.xlabel()\n",
    "# plt.ylabel()\n",
    "# plt.title()\n",
    "# plt.legend()"
   ]
  },
  {
   "cell_type": "markdown",
   "id": "5a139dd8",
   "metadata": {},
   "source": [
    "#### 针对第六步，去除训练集中的异常值或离群值后再次训练模型"
   ]
  },
  {
   "cell_type": "code",
   "execution_count": 9,
   "id": "8792bb6a",
   "metadata": {},
   "outputs": [
    {
     "data": {
      "text/plain": [
       "[<matplotlib.lines.Line2D at 0x2444b452160>]"
      ]
     },
     "execution_count": 9,
     "metadata": {},
     "output_type": "execute_result"
    },
    {
     "data": {
      "image/png": "[encoded data removed]",
      "text/plain": [
       "<Figure size 432x288 with 1 Axes>"
      ]
     },
     "metadata": {
      "needs_background": "light"
     },
     "output_type": "display_data"
    }
   ],
   "source": [
    "plt.plot(data['Newspaper'],data['Sales'],'.')"
   ]
  },
  {
   "cell_type": "markdown",
   "id": "2b6f5562",
   "metadata": {},
   "source": [
    "### 多元线性回归——Advertising广告预测"
   ]
  },
  {
   "cell_type": "markdown",
   "id": "54b83a2a",
   "metadata": {},
   "source": [
    "1.使用多个特征作为输入完成广告预测问题\\\n",
    "2.计算模型在十折交叉验证上MAE和RMSE的值，比较不同的特征组合在模型预测能力上的影响。\\\n",
    "模型可使用sklearn.linear_model.LinearRegression \\\n",
    "3.选做：多项式回归（一元线性回归的扩展），尝试对部分特征进行变换，如将其二次幂，三次幂作为特征输入模型，观察模型在预测能力上的变化。\n"
   ]
  },
  {
   "cell_type": "code",
   "execution_count": 25,
   "id": "bc5bc4b4",
   "metadata": {},
   "outputs": [],
   "source": [
    "from sklearn.linear_model import LinearRegression\n",
    "from sklearn.model_selection import cross_val_predict"
   ]
  },
  {
   "cell_type": "markdown",
   "id": "aba227fd",
   "metadata": {},
   "source": [
    "####  使用sklearn完成一元线性回归的十折交叉验证验证"
   ]
  },
  {
   "cell_type": "code",
   "execution_count": 26,
   "id": "bf293c71",
   "metadata": {},
   "outputs": [],
   "source": [
    "model = LinearRegression()\n",
    "prediction = cross_val_predict(model, data[['TV']],data['Sales'], cv = 10)"
   ]
  },
  {
   "cell_type": "markdown",
   "id": "fb582409",
   "metadata": {},
   "source": [
    "####  使用sklearn完成MAE和RMSE"
   ]
  },
  {
   "cell_type": "code",
   "execution_count": 27,
   "id": "fba3b0ee",
   "metadata": {},
   "outputs": [],
   "source": [
    "from sklearn.metrics import mean_absolute_error\n",
    "from sklearn.metrics import mean_squared_error"
   ]
  },
  {
   "cell_type": "markdown",
   "id": "64d03330",
   "metadata": {},
   "source": [
    "#### 选择多种特征进行组合，完成多元线性回归，并对比不同的特征组合，它们训练出的模型在十折交叉验证上MAE与RMSE的差别，至少完成3组"
   ]
  },
  {
   "cell_type": "code",
   "execution_count": 30,
   "id": "60e0f438",
   "metadata": {},
   "outputs": [],
   "source": [
    "def trainAndPredict(features, label, model, cv = 10):\n",
    "    # YOUR CODE HERE\n",
    "    return mae,rmse"
   ]
  },
  {
   "cell_type": "markdown",
   "id": "7c287222",
   "metadata": {},
   "source": [
    "###### 双击此处填写\n",
    "1. 模型1使用的特征：\n",
    "2. 模型2使用的特征：\n",
    "3. 模型3使用的特征:\n",
    "\n",
    "模型|MAE|RMSE\n",
    "-|-|-\n",
    "模型1 | 0.0 | 0.0\n",
    "模型2 | 0.0 | 0.0\n",
    "模型3 | 0.0 | 0.0"
   ]
  },
  {
   "cell_type": "markdown",
   "id": "812c7ee8",
   "metadata": {},
   "source": [
    "### 对数几率回归——手机市场价分类"
   ]
  },
  {
   "cell_type": "markdown",
   "id": "e02d96c0",
   "metadata": {},
   "source": [
    "使用mobile_price数据集对手机市场价进行分类\n",
    "1.\t此数据集不存在缺失值但存在不合逻辑的值，例如部分样本的手机屏幕宽度sc_w特征为0，要求使用数据集时首先进行清洗以剔除这些错误样本\n",
    "2.\t原数据中手机价格总共有4类，为让其适用于对数几率回归二分类，要求对价格类别进行合并（0：低，1：较低，2：较高，3：高）0和1归为一类，2和3归为一类，使用对数几率回归实现对手机价格的二分类\n",
    "3.\t计算十折交叉验证下的精度，查准率，查全率，F1分数\n",
    "4.\t模型使用sklearn.linear_model.LogisticRegression 同时要求理解其求解方法，分别尝试最大迭代次数100，1000，5000设置，分析不同结果的可能原因\n"
   ]
  },
  {
   "cell_type": "code",
   "execution_count": 31,
   "id": "53d63bca",
   "metadata": {},
   "outputs": [],
   "source": [
    "import numpy as np\n",
    "import pandas as pd"
   ]
  },
  {
   "cell_type": "code",
   "execution_count": 33,
   "id": "bdd01b86",
   "metadata": {},
   "outputs": [
    {
     "name": "stdout",
     "output_type": "stream",
     "text": [
      "<class 'pandas.core.frame.DataFrame'>\n",
      "RangeIndex: 2000 entries, 0 to 1999\n",
      "Data columns (total 21 columns):\n",
      " #   Column         Non-Null Count  Dtype  \n",
      "---  ------         --------------  -----  \n",
      " 0   battery_power  2000 non-null   int64  \n",
      " 1   blue           2000 non-null   int64  \n",
      " 2   clock_speed    2000 non-null   float64\n",
      " 3   dual_sim       2000 non-null   int64  \n",
      " 4   fc             2000 non-null   int64  \n",
      " 5   four_g         2000 non-null   int64  \n",
      " 6   int_memory     2000 non-null   int64  \n",
      " 7   m_dep          2000 non-null   float64\n",
      " 8   mobile_wt      2000 non-null   int64  \n",
      " 9   n_cores        2000 non-null   int64  \n",
      " 10  pc             2000 non-null   int64  \n",
      " 11  px_height      2000 non-null   int64  \n",
      " 12  px_width       2000 non-null   int64  \n",
      " 13  ram            2000 non-null   int64  \n",
      " 14  sc_h           2000 non-null   int64  \n",
      " 15  sc_w           2000 non-null   int64  \n",
      " 16  talk_time      2000 non-null   int64  \n",
      " 17  three_g        2000 non-null   int64  \n",
      " 18  touch_screen   2000 non-null   int64  \n",
      " 19  wifi           2000 non-null   int64  \n",
      " 20  price_range    2000 non-null   int64  \n",
      "dtypes: float64(2), int64(19)\n",
      "memory usage: 328.2 KB\n"
     ]
    }
   ],
   "source": [
    "# 读取数据\n",
    "data = pd.read_csv('data/mobile_phone/train.csv', delimiter=',')\n",
    "# 查看数据集的特征信息\n",
    "data.info()"
   ]
  },
  {
   "cell_type": "markdown",
   "id": "0cba33ae",
   "metadata": {},
   "source": [
    "#### 针对1）去除异常值"
   ]
  },
  {
   "cell_type": "code",
   "execution_count": 34,
   "id": "9deec753",
   "metadata": {},
   "outputs": [
    {
     "name": "stdout",
     "output_type": "stream",
     "text": [
      "180\n"
     ]
    }
   ],
   "source": [
    "# 查看sc_w列中值为0的样本数量\n",
    "print(len(data[(data.sc_w == 0)].index.tolist()))"
   ]
  },
  {
   "cell_type": "code",
   "execution_count": 36,
   "id": "5e3ed3bf",
   "metadata": {},
   "outputs": [],
   "source": [
    "# 删除sc_w值为0所在的所有行\n",
    "# data =  data.drop()\n",
    "# # 查看删除后的数据的信息\n",
    "# data.info()"
   ]
  },
  {
   "cell_type": "markdown",
   "id": "71712ec1",
   "metadata": {},
   "source": [
    "#### 针对2）转化为2分类"
   ]
  },
  {
   "cell_type": "code",
   "execution_count": 38,
   "id": "ec8f0d4f",
   "metadata": {},
   "outputs": [],
   "source": [
    "# data.loc"
   ]
  },
  {
   "cell_type": "markdown",
   "id": "55d2f0ca",
   "metadata": {},
   "source": [
    "#### 针对3）计算十折交叉验证下的精度，查准率，查全率，F1分数"
   ]
  },
  {
   "cell_type": "code",
   "execution_count": 42,
   "id": "9690439c",
   "metadata": {},
   "outputs": [],
   "source": [
    "from sklearn.linear_model import LogisticRegression #关注函数中的max_iter参数\n",
    "#评价指标函数\n",
    "from sklearn.metrics import accuracy_score\n",
    "from sklearn.metrics import precision_score\n",
    "from sklearn.metrics import recall_score\n",
    "from sklearn.metrics import f1_score\n",
    "from sklearn.model_selection import cross_val_predict\n",
    "#模型训练\n",
    "# YOUR CODE HERE\n",
    "\n",
    "#模型评估\n",
    "# YOUR CODE HERE"
   ]
  },
  {
   "cell_type": "markdown",
   "id": "950c60ca",
   "metadata": {},
   "source": [
    "###### 双击此处填写\n",
    "\n",
    "迭代次数|精度|查准率|查全率|F1\n",
    "-|-|-|-|-\n",
    "100 | \n",
    "1000 | \n",
    "5000 | "
   ]
  },
  {
   "cell_type": "markdown",
   "id": "d164cc00",
   "metadata": {},
   "source": [
    "### 线性判别分析——手机价格分类"
   ]
  },
  {
   "cell_type": "markdown",
   "id": "df4a5aa4",
   "metadata": {},
   "source": [
    "使用mobile_price数据集对手机市场价进行分类\n",
    "1.\t此数据集不存在缺失值但存在不合逻辑的值，例如部分样本的手机屏幕宽度sc_w特征为0，要求使用数据集时首先进行清洗以剔除这些错误样本\n",
    "2.\t原数据中手机价格总共有4类，要求对价格类别进行合并（0：低，1：较低，2：较高，3：高）0和1归为一类，2和3归为一类，使用线性判别分析实现对手机价格的二分类\n",
    "3.\t计算十折交叉验证下的精度，查准率，查全率，F1分数\n",
    "4.\t模型使用sklearn.discriminant_analysis.LinearDiscriminantAnalysis 同时要求理解其求解方法\n",
    "5. 选做：利用 sklearn.processing里的标准化、归一化等方法对特征进行变换，分析变换对预测结果的影响。【同样采用十折交叉验证和相同的指标】"
   ]
  },
  {
   "cell_type": "code",
   "execution_count": 47,
   "id": "6a797710",
   "metadata": {},
   "outputs": [],
   "source": [
    "# 数据加载及处理同上"
   ]
  },
  {
   "cell_type": "code",
   "execution_count": 48,
   "id": "3a491745",
   "metadata": {},
   "outputs": [],
   "source": [
    "from sklearn.discriminant_analysis import LinearDiscriminantAnalysis\n",
    "from sklearn.metrics import accuracy_score\n",
    "from sklearn.metrics import precision_score\n",
    "from sklearn.metrics import recall_score\n",
    "from sklearn.metrics import f1_score\n",
    "from sklearn.model_selection import cross_val_predict\n",
    "from sklearn import preprocessing"
   ]
  },
  {
   "cell_type": "code",
   "execution_count": 49,
   "id": "3c57180d",
   "metadata": {},
   "outputs": [],
   "source": [
    "#模型训练\n",
    "# YOUR CODE HERE\n",
    "\n",
    "#模型评估\n",
    "# YOUR CODE HERE"
   ]
  },
  {
   "cell_type": "markdown",
   "id": "8f3177b5",
   "metadata": {},
   "source": [
    "#### 针对选做，填写以下表格"
   ]
  },
  {
   "cell_type": "markdown",
   "id": "fcddff75",
   "metadata": {},
   "source": [
    "###### 双击此处填写\n",
    "1. 模型1的处理流程： \n",
    "2. 模型2的处理流程： \n",
    "3. 模型3的处理流程:   \n",
    "\n",
    "模型|数据集|精度|查准率|查全率|F1\n",
    "-|-|-|-|-|-\n",
    "模型1 | 数据集 | 0.0 | 0.0 | 0.0 | 0.0\n",
    "模型2 | 数据集 | 0.0 | 0.0 | 0.0 | 0.0\n",
    "模型3 | 数据集 | 0.0 | 0.0 | 0.0 | 0.0"
   ]
  },
  {
   "cell_type": "markdown",
   "id": "30afa819",
   "metadata": {},
   "source": [
    "### 多分类学习"
   ]
  },
  {
   "cell_type": "markdown",
   "id": "04955c1c",
   "metadata": {},
   "source": [
    "- 1.分别实现一对一，一对其余，多对多的拆分策略，分类器要求任选上述所学中的一种。\n",
    "- 2.数据集选择鸢尾花数据集，随机划分20%作为测试集，根据测试集的精度(accuracy)，查准率(precision)，查全率(recall)，F1值分析拆分策略的优劣。（让学生掌握多分类学习任务的策略）\n",
    "- 3.观察三种方法在实验结果上的差异，分析其原因\n",
    "- 4.选做：选取前两列特征进行训练，并对训练结果进行可视化"
   ]
  },
  {
   "cell_type": "markdown",
   "id": "f10ab75e",
   "metadata": {},
   "source": [
    "将多分类任务拆为多个二分类任务求解，一般有 3 种拆分策略：\n",
    "- （1）OvO（一对一，One vs One）：假如数据 D 中有 N 个类别，将 N 个类别进行两两配对，产生 N（N-1）/2 个二分类器，在预测中，将测试样本输入这 N（N-1）/2 个二分类器中得到相应个数的预测结果，然后再将被预测结果数最多的（Voting）作为最终分类结果。\n",
    "- （2）OvR（一对其余，One vs Rest）: 将一个类别作为正例，其余所有类别作为反例，这样 N 个类别可以产生 N 个二分类器，将测试样本输入这些二分类器中中得到 N 个预测结果，如果仅有一个分类器预测为正类，则将对应的预测结果作为最终预测结果。如果有多个分类器预测为正类，则选择置信度最大的类别作为最终分类结果。\n",
    "- （3）MvM（多对多，Many vs Many）：将数据集中的若干个类作为正例，若干个其他类作为反例。MvM 的正、反类构造必须有特殊的设计，而不是随意选取，通常采用“纠错输出码（ECOC）”，产生编码矩阵后划分类别。"
   ]
  },
  {
   "cell_type": "markdown",
   "id": "13e143f4",
   "metadata": {},
   "source": [
    "参考文献：\n",
    "https://scikit-learn.org/stable/modules/generated/sklearn.multiclass.OutputCodeClassifier.html https://scikit-learn.org/stable/modules/generated/sklearn.multiclass.OneVsOneClassifier.html https://scikit-learn.org/stable/modules/generated/sklearn.multiclass.OneVsRestClassifier.html"
   ]
  },
  {
   "cell_type": "code",
   "execution_count": 54,
   "id": "59aabd4d",
   "metadata": {},
   "outputs": [],
   "source": [
    "from sklearn import datasets\n",
    "from sklearn.model_selection import train_test_split\n",
    "from sklearn.multiclass import OneVsRestClassifier\n",
    "from sklearn.multiclass import OneVsOneClassifier\n",
    "from sklearn.multiclass import OutputCodeClassifier\n",
    "from sklearn.linear_model import LogisticRegression\n",
    "from sklearn.metrics import accuracy_score"
   ]
  },
  {
   "cell_type": "code",
   "execution_count": 64,
   "id": "60c24e18",
   "metadata": {},
   "outputs": [],
   "source": [
    "#加载鸢尾花数据集\n",
    "data_iris = datasets.load_iris()\n",
    "x, y = data_iris.data, data_iris.target\n",
    "x_train, x_test, y_train, y_test = train_test_split(x, y, test_size = 0.3,random_state = 0)  "
   ]
  },
  {
   "cell_type": "code",
   "execution_count": 65,
   "id": "3aaf018f",
   "metadata": {},
   "outputs": [],
   "source": [
    "# 使用multiclass的OvO多分类策略\n",
    "# YOUR CODE HERE\n",
    "\n",
    "# 使用multiclass的OvR多分类策略\n",
    "# YOUR CODE HERE\n",
    "\n",
    "#借助OutputCodeClassifier 实现多对多\n",
    "# YOUR CODE HERE"
   ]
  },
  {
   "cell_type": "markdown",
   "id": "976f9d68",
   "metadata": {},
   "source": [
    "#### 汇总三种方法结果，比较并尝试分析原因"
   ]
  },
  {
   "cell_type": "markdown",
   "id": "6f0bc284",
   "metadata": {},
   "source": [
    "###### 双击此处填写\n",
    "\n",
    "模型|分类器|精度|查准率|查全率|F1\n",
    "-|-|-|-|-|-\n",
    "OvO |  |  0.0 | 0.0 | 0.0  | 0.0\n",
    "OvR |  |0.0 | 0.0 | 0.0 | 0.0\n",
    "MvM |  | 0.0 | 0.0 | 0.0 | 0.0"
   ]
  },
  {
   "cell_type": "markdown",
   "id": "5f71a026",
   "metadata": {},
   "source": [
    "#### 选做：选取前两列特征，任选上述三种方法之一进行重新训练，可视化实验结果"
   ]
  },
  {
   "cell_type": "code",
   "execution_count": 100,
   "id": "a41fca4a",
   "metadata": {},
   "outputs": [],
   "source": [
    "import matplotlib.pyplot as plt\n",
    "from matplotlib import colors\n",
    "import matplotlib as mpl \n",
    "#参考：借助plt.pcolormesh，plt.scatter，工具"
   ]
  },
  {
   "cell_type": "code",
   "execution_count": null,
   "id": "b8b294ad",
   "metadata": {},
   "outputs": [],
   "source": []
  }
 ],
 "metadata": {
  "kernelspec": {
   "display_name": "Python 3 (ipykernel)",
   "language": "python",
   "name": "python3"
  },
  "language_info": {
   "codemirror_mode": {
    "name": "ipython",
    "version": 3
   },
   "file_extension": ".py",
   "mimetype": "text/x-python",
   "name": "python",
   "nbconvert_exporter": "python",
   "pygments_lexer": "ipython3",
   "version": "3.8.10"
  },
  "toc": {
   "base_numbering": 1,
   "nav_menu": {},
   "number_sections": true,
   "sideBar": true,
   "skip_h1_title": false,
   "title_cell": "Table of Contents",
   "title_sidebar": "Contents",
   "toc_cell": false,
   "toc_position": {
    "height": "calc(100% - 180px)",
    "left": "10px",
    "top": "150px",
    "width": "236.009px"
   },
   "toc_section_display": true,
   "toc_window_display": true
  }
 },
 "nbformat": 4,
 "nbformat_minor": 5
}
